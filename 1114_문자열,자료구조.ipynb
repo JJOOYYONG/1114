{
 "cells": [
  {
   "cell_type": "code",
   "execution_count": null,
   "metadata": {},
   "outputs": [],
   "source": [
    "#sys 모듈을 호출\n",
    "import sys\n",
    "\n",
    "print(sys.getsizeof(\"a\"),sys.getsizeof(\"ab\"),sys.getsizeof(\"abc\"))"
   ]
  },
  {
   "cell_type": "code",
   "execution_count": null,
   "metadata": {},
   "outputs": [],
   "source": [
    "#문자열의 슬라이싱\n",
    "\n",
    "#a변수의 0~5까지, -9부터 끝까지\n",
    "a=\"teamlab mooc,awesome python\"\n",
    "print(a[0:6],\"and\",a[-9:])\n",
    "\n",
    "#a변수의 처음부터 끝까지\n",
    "print(a[:])\n",
    "\n",
    "#범위를 넘어갈 경우 자동으로 최대 범위를 지정\n",
    "print(a[-50:50])\n",
    "\n",
    "print(a[::2],\"and\",a[::-1])"
   ]
  },
  {
   "cell_type": "code",
   "execution_count": null,
   "metadata": {},
   "outputs": [],
   "source": [
    "#문자열의 연산\n",
    "a=\"team\"\n",
    "b=\"lab\"\n",
    "\n",
    "#덧셈으로 a와b 변수 연결하기\n",
    "print(a+\" \"+b)\n",
    "\n",
    "#곱하기로 반복 연산 가능\n",
    "print(a*2+\" \"+b*2)\n",
    "\n",
    "#'a'가 a에 포함되었는지 확인\n",
    "if 'a' in a: print(a)\n",
    "else: print(b)\n",
    "\n",
    "a=10\n",
    "b=20\n",
    "print(\"결과:\"+str(a+b))"
   ]
  },
  {
   "cell_type": "code",
   "execution_count": null,
   "metadata": {},
   "outputs": [],
   "source": [
    "#title 변수를 모두 대문자로 변환\n",
    "title =\"teamlab x inflearn\"\n",
    "print(title.upper())\n",
    "\n",
    "print(title.lower())\n",
    "\n",
    "#변수의 각 단어의 앞글자만 대문자로 변환\n",
    "print(title.title())\n",
    "\n",
    "#변수의 첫번째 글자만 대문자로 변환\n",
    "print(title.capitalize())\n",
    "\n",
    "#변수에 a가 몇개 있는지 개수 변환\n",
    "print(title.count(\"a\"))\n",
    "\n",
    "#대문자로 만든후, a가 몇개있는지\n",
    "print(title.upper().count(\"a\"))\n",
    "\n",
    "#문자열이 숫자인지 여부 반환\n",
    "print(title.isdigit())\n",
    "\n",
    "#변수가 a로 시작하는지 여부 반환\n",
    "print(title.startswith(\"a\"))\n",
    "print(title.endswith(\"e\"))"
   ]
  },
  {
   "cell_type": "code",
   "execution_count": null,
   "metadata": {},
   "outputs": [],
   "source": [
    "#%서식 과 format()함수\n",
    "\n",
    "\n",
    "print(1,2,3)\n",
    "print(\"a\"+\"\"+\"b\"+\"\"+\"c\")\n",
    "print(\"%d%d%d\"%(1,2,3))\n",
    "print(\"{}{}{}\".format(\"a\",\"b\",\"c\"))\n",
    "\n",
    "a=10\n",
    "b=20\n",
    "c=30\n",
    "print(a,b,c)\n",
    "\n",
    "print(\"%d %d %d\"%(a,b,c))\n",
    "\n",
    "print(\"{2} {0} {1}\".format(a,b,c))\n",
    "\n",
    "print(\"%o %x %d\" %(a,b,c))"
   ]
  },
  {
   "cell_type": "code",
   "execution_count": null,
   "metadata": {},
   "outputs": [],
   "source": [
    "#포맷함수\n",
    "\n",
    "\n",
    "age=40; name='james'\n",
    "print(\"I'm{0}years old.\".format(age))\n",
    "print(\"My name is {0} and {1} years old.\".format(name,age))\n",
    "\n",
    "#.2f라는 구문은 2는 소수점 둘째 자리까지 출력하라는 뜻\n",
    "print(\"Product:{0},price per unit:{1:.2f}.\".format(\"Apple\",5.243))\n",
    "\n",
    "age=20;weight=48.567895;name='ariel'\n",
    "print(\"나이는 {0}이고 몸무게는 {1:<10.2f}입니다\".format(age,weight))\n",
    "\n",
    "#패딩 : 여유공간을 지정하여 글자배열을 맞추고 소수점 자릿수를 맞추는 기능\n",
    "print(\"이름은{0:>10s}입니다.\".format(name))"
   ]
  },
  {
   "cell_type": "code",
   "execution_count": null,
   "metadata": {},
   "outputs": [],
   "source": [
    "#네이밍\n",
    "\n",
    "age=20;name='홍길동';height=185.1236\n",
    "print(\"이름:{n}이고 나이는 {a:>5}이며 키는 {h:.2f}입니다.\".format(n=name,a=age,h=height))\n",
    "\n",
    "print(\"%(n)s이고 나이는 %(a)d이며 키는 %(h)5.2f입니다.\"%{\"n\":name,\"a\":age,\"h\":height})"
   ]
  },
  {
   "cell_type": "code",
   "execution_count": null,
   "metadata": {},
   "outputs": [],
   "source": [
    "#자료구조\n",
    "a=[1]\n",
    "a.append(2)\n",
    "a.append(3)\n",
    "print(a)\n",
    "\n",
    "#스택 : 리스트를 스택처럼 활용함\n",
    "print(a.pop())\n",
    "print(a.pop())\n",
    "print(a.pop())\n",
    "print(a)"
   ]
  },
  {
   "cell_type": "code",
   "execution_count": null,
   "metadata": {},
   "outputs": [],
   "source": [
    "word='python'\n",
    "word_list=list(word)\n",
    "print(word_list)\n",
    "print(word_list[::-1])\n",
    "print(word)\n",
    "\n",
    "result=[]\n",
    "for _ in range(len(word_list)):\n",
    "    result.append(word_list.pop())\n",
    "print(result)\n",
    "print(word[::-1])\n"
   ]
  },
  {
   "cell_type": "code",
   "execution_count": null,
   "metadata": {},
   "outputs": [],
   "source": [
    "#큐\n",
    "a=[1,2]\n",
    "a.append(10)\n",
    "a.append(20)\n",
    "print(a)\n",
    "\n",
    "print(a.pop(0))\n",
    "print(a.pop(0))\n",
    "print(a)"
   ]
  },
  {
   "cell_type": "code",
   "execution_count": null,
   "metadata": {},
   "outputs": [],
   "source": [
    "#튜플 : 리스트와 같은 개념이지만 데이터를 변경할 수 없는 자료 구조이다.\n",
    "t=(1,2,3)\n",
    "print(t+t,t*2)\n",
    "print(len(t))"
   ]
  },
  {
   "cell_type": "code",
   "execution_count": null,
   "metadata": {},
   "outputs": [],
   "source": [
    "#세트 : 값을 순서없이 저장하면서 중복을 불허하는 자료형\n",
    "s=set([1,2,3,1,2,3])\n",
    "print(s)\n",
    "s1={1,3,4,5}\n",
    "print(s1)\n",
    "s.add(4)\n",
    "print(s)\n",
    "\n",
    "s.remove(1)\n",
    "print(s)\n",
    "s.update([1,2,3,4])\n",
    "print(s)\n",
    "s.discard(1)\n",
    "print(s)\n",
    "s.clear()\n",
    "print(s)"
   ]
  },
  {
   "cell_type": "code",
   "execution_count": null,
   "metadata": {},
   "outputs": [],
   "source": [
    "#유니온(합집함)\n",
    "s1=set([1,2,3])\n",
    "s2={2,4,5}\n",
    "s3=s1.union(s2)\n",
    "print(s3)\n",
    "\n",
    "s3=s1 | s2\n",
    "print(s3)\n",
    "\n",
    "#인터섹션(교집합)\n",
    "print(s1.intersection(s2)\n",
    "print(s1&s2)\n",
    "\n",
    "#디프런스(차집합)\n",
    "print(s1.difference(s2))\n",
    "print(s1 - s2)"
   ]
  },
  {
   "cell_type": "code",
   "execution_count": null,
   "metadata": {},
   "outputs": [],
   "source": [
    "#딕셔너리 : 키와 값의 쌍으로 구성하면 된다\n",
    "student ={'홍길동':80,'이몽룡':85,'뮬란':75}\n",
    "print(student)\n",
    "print(student['뮬란'])\n",
    "\n",
    "print(student.keys())\n",
    "print(student.values())\n",
    "print(student.items())\n",
    "\n",
    "for k,v in student.items():\n",
    "    print(k,v)\n",
    "    \n",
    "print('뮬란' in student.keys())\n",
    "print(80 in student.values())"
   ]
  },
  {
   "cell_type": "code",
   "execution_count": null,
   "metadata": {},
   "outputs": [],
   "source": [
    "#컬렉션 : 다양한 자료구조인 리스트,튜플,딕셔너리 등을 확장하여 제작된 내장 모듈\n",
    "#1)deque\n",
    "\n",
    "from collections import deque\n",
    "deque_list=deque()\n",
    "for i in range(5):\n",
    "    deque_list.appendleft(i)\n",
    "\n",
    "print(deque_list)\n",
    "\n",
    "deque_list.append(5)\n",
    "deque_list.extendleft([6,7,8])\n",
    "print(deque_list)\n",
    "#deque_list.rotate(2)\n",
    "#print(deque_list)\n",
    "\n",
    "#print(deque(reversed(deque_list)))\n",
    "\n",
    "#deque장점 : 연결 리스트의 특성을 지원함"
   ]
  },
  {
   "cell_type": "code",
   "execution_count": null,
   "metadata": {},
   "outputs": [],
   "source": [
    "#2)orderDict 모듈 , 키에 대한 값별로 정렬할 수 있다.\n",
    "#sort를 선언해줘야 쓸 수 있다\n",
    "#리턴 배열 0,1 은 각각 key,value 값을 나타낸다\n",
    "\n",
    "def sort_by_key(t):\n",
    "    return t[1]\n",
    "\n",
    "from collections import OrderedDict\n",
    "d=OrderedDict()\n",
    "d['x']=100\n",
    "d['l']=500\n",
    "d['y']=200\n",
    "d['z']=300\n",
    "\n",
    "for k,v in OrderedDict(sorted(d.items(),key=sort_by_key)).items():\n",
    "    print(k,v)\n",
    "  "
   ]
  },
  {
   "cell_type": "code",
   "execution_count": null,
   "metadata": {},
   "outputs": [],
   "source": [
    "#defaultdict 모듈 , 딕셔너리의 변수를 생성할때 기본값을 지정하는 방법\n",
    "#키를 생성하지않고 해당키의 값을 호출할려고 할때 오류 발생\n",
    "\n",
    "\n",
    "from collections import defaultdict\n",
    "d=defaultdict(lambda:0) # 어떤키가 들어오더라도 처음 값은 전부 0으로 설정하는 함수\n",
    "print(d[\"first\"])\n",
    "\n",
    "s=[('yellow',1),('blue',2),('yellow',3),('blue',4),('red',1)]\n",
    "d=defaultdict(list)\n",
    "\n",
    "for k,v in s:\n",
    "    d[k].append(v)\n",
    "print(d.items())\n",
    "\n",
    "print([('blue',[2,4]),('red',[1]),('yellow',[1,3])])\n"
   ]
  },
  {
   "cell_type": "code",
   "execution_count": null,
   "metadata": {},
   "outputs": [],
   "source": [
    "#counter모듈\n",
    "from collections import Counter\n",
    "text = list(\"gallahad\")\n",
    "print(text)\n",
    "\n",
    "c= Counter(text)\n",
    "print(c)\n",
    "print(c[\"a\"])"
   ]
  },
  {
   "cell_type": "code",
   "execution_count": null,
   "metadata": {},
   "outputs": [],
   "source": [
    "from  collections import Counter\n",
    "\n",
    "c=Counter(cats=4,dogs=8)\n",
    "print(c)\n",
    "Counter({'dogs':8,'cats':4})\n",
    "print(list(c.elements()))"
   ]
  },
  {
   "cell_type": "code",
   "execution_count": null,
   "metadata": {},
   "outputs": [],
   "source": [
    "from collections import Counter\n",
    "\n",
    "c=Counter(a=4,b=2,c=0,d=-2)\n",
    "d=Counter(a=1,b=2,c=3,d=4)\n",
    "c.subtract(d)\n",
    "print(c)\n"
   ]
  },
  {
   "cell_type": "code",
   "execution_count": 11,
   "metadata": {},
   "outputs": [
    {
     "name": "stdout",
     "output_type": "stream",
     "text": [
      "Point(x=11, y=22)\n",
      "11 22\n"
     ]
    }
   ],
   "source": [
    "from collections import namedtuple\n",
    "\n",
    "Point= namedtuple('Point',['x','y'])\n",
    "p=Point(x=11,y=22)\n",
    "print(p)\n",
    "print(p.x,p.y)"
   ]
  },
  {
   "cell_type": "code",
   "execution_count": 13,
   "metadata": {},
   "outputs": [
    {
     "name": "stdout",
     "output_type": "stream",
     "text": [
      "red green blue\n"
     ]
    }
   ],
   "source": [
    "colors=['red','green','blue']\n",
    "result=\" \".join(colors)\n",
    "#for c in colors:\n",
    "#result+=c\n",
    "print(result)"
   ]
  },
  {
   "cell_type": "code",
   "execution_count": 19,
   "metadata": {},
   "outputs": [
    {
     "name": "stdout",
     "output_type": "stream",
     "text": [
      "['red', 'green', 'blue']\n",
      "red green blue\n"
     ]
    }
   ],
   "source": [
    "colors=\"red,green,blue\".split(\",\")\n",
    "r,g,b=colors\n",
    "print(colors)\n",
    "print(r,g,b)"
   ]
  },
  {
   "cell_type": "code",
   "execution_count": 21,
   "metadata": {},
   "outputs": [
    {
     "name": "stdout",
     "output_type": "stream",
     "text": [
      "[0, 1, 2, 3, 4, 5, 6, 7, 8, 9]\n"
     ]
    }
   ],
   "source": [
    "result=[]\n",
    "for i in range(10):\n",
    "    result.append(i)\n",
    "print(result)"
   ]
  },
  {
   "cell_type": "code",
   "execution_count": 22,
   "metadata": {},
   "outputs": [
    {
     "name": "stdout",
     "output_type": "stream",
     "text": [
      "[0, 1, 2, 3, 4, 5, 6, 7, 8, 9]\n"
     ]
    }
   ],
   "source": [
    "result=[i for i in range(10)]\n",
    "print(result)"
   ]
  },
  {
   "cell_type": "code",
   "execution_count": 25,
   "metadata": {},
   "outputs": [
    {
     "name": "stdout",
     "output_type": "stream",
     "text": [
      "[0, 2, 4, 6, 8]\n"
     ]
    }
   ],
   "source": [
    "result=[]\n",
    "for i in range(10):\n",
    "    if i%2==0:\n",
    "        result.append(i)\n",
    "print(result)"
   ]
  },
  {
   "cell_type": "code",
   "execution_count": 28,
   "metadata": {},
   "outputs": [
    {
     "name": "stdout",
     "output_type": "stream",
     "text": [
      "[0, 2, 4, 6, 8]\n",
      "[0, 10, 2, 10, 4, 10, 6, 10, 8, 10]\n"
     ]
    }
   ],
   "source": [
    "result=[i for i in range(10) if i%2==0]\n",
    "print(result)\n",
    "\n",
    "#else 가 들어가면 if 문을 앞으로 빼내야한다.\n",
    "result=[i if i%2==0 else 10 for i in range(10)]\n",
    "print(result)"
   ]
  },
  {
   "cell_type": "code",
   "execution_count": 32,
   "metadata": {},
   "outputs": [
    {
     "name": "stdout",
     "output_type": "stream",
     "text": [
      "AD AE AF \n",
      "BD BE BF \n",
      "CD CE CF \n"
     ]
    }
   ],
   "source": [
    "#중첩반복문\n",
    "world1=\"ABC\"\n",
    "world2=\"DEF\"\n",
    "\n",
    "for i in world1:\n",
    "    for j in world2:\n",
    "        print(i+j, end=\" \")\n",
    "    print()"
   ]
  },
  {
   "cell_type": "code",
   "execution_count": 34,
   "metadata": {},
   "outputs": [
    {
     "name": "stdout",
     "output_type": "stream",
     "text": [
      "['AD', 'AE', 'AF', 'BD', 'BE', 'BF', 'CD', 'CE', 'CF']\n"
     ]
    }
   ],
   "source": [
    "result=[i+j for i in world1 for j in world2]\n",
    "print(result)"
   ]
  },
  {
   "cell_type": "code",
   "execution_count": 35,
   "metadata": {},
   "outputs": [
    {
     "name": "stdout",
     "output_type": "stream",
     "text": [
      "60\n"
     ]
    }
   ],
   "source": [
    "#람다함수표현\n",
    "#함수 가 복잡할때 쓰지 않고 단순연산자를 리턴할때 자주 사용\n",
    "f=lambda x,y:x*y\n",
    "print(f(30,2))"
   ]
  },
  {
   "cell_type": "code",
   "execution_count": 37,
   "metadata": {},
   "outputs": [
    {
     "name": "stdout",
     "output_type": "stream",
     "text": [
      "7\n",
      "6\n"
     ]
    }
   ],
   "source": [
    "print((lambda x:x+5)(2))\n",
    "print((lambda x,y:x*y)(3,2))"
   ]
  }
 ],
 "metadata": {
  "kernelspec": {
   "display_name": "Python 3",
   "language": "python",
   "name": "python3"
  },
  "language_info": {
   "codemirror_mode": {
    "name": "ipython",
    "version": 3
   },
   "file_extension": ".py",
   "mimetype": "text/x-python",
   "name": "python",
   "nbconvert_exporter": "python",
   "pygments_lexer": "ipython3",
   "version": "3.7.4"
  }
 },
 "nbformat": 4,
 "nbformat_minor": 2
}
