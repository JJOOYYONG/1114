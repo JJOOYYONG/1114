{
 "cells": [
  {
   "cell_type": "code",
   "execution_count": 12,
   "metadata": {},
   "outputs": [
    {
     "name": "stdout",
     "output_type": "stream",
     "text": [
      "yesterday : 4\n",
      "all : 1\n",
      "my : 1\n",
      "troubles : 1\n",
      "seemed : 1\n",
      "so : 1\n",
      "far : 1\n",
      "away. : 3\n",
      "now : 5\n",
      "it : 1\n",
      "looks : 1\n",
      "as : 1\n",
      "though : 1\n",
      "they're : 1\n",
      "here : 1\n",
      "to : 8\n",
      "stay. : 1\n",
      "oh, : 4\n",
      "i : 12\n",
      "believe : 3\n",
      "in : 3\n",
      "yesterday. : 5\n",
      "suddenly : 1\n",
      "i'm : 1\n",
      "not : 1\n",
      "half : 1\n",
      "the : 1\n",
      "man : 1\n",
      "used : 1\n",
      "be. : 1\n",
      "there's : 1\n",
      "a : 3\n",
      "shadow : 1\n",
      "hanging : 1\n",
      "over : 1\n",
      "me. : 1\n",
      "came : 1\n",
      "suddenly. : 1\n",
      "why : 2\n",
      "she : 4\n",
      "had : 2\n",
      "go, : 2\n",
      "don't : 2\n",
      "know, : 2\n",
      "wouldn't : 2\n",
      "say. : 2\n",
      "said : 2\n",
      "something : 2\n",
      "wrong, : 2\n",
      "long : 2\n",
      "for : 2\n",
      "love : 2\n",
      "was : 2\n",
      "such : 2\n",
      "an : 2\n",
      "easy : 2\n",
      "game : 2\n",
      "play. : 2\n",
      "need : 2\n",
      "place : 2\n",
      "hide : 2\n",
      "mm : 7\n"
     ]
    }
   ],
   "source": [
    "#텍스트라이닝...\n",
    "\n",
    "from collections import Counter\n",
    "f=open(\"yesterday.txt\",'r')\n",
    "txt_yesterday=f.readlines() #txt 파일 불러오기\n",
    "f.close()\n",
    "\n",
    "contents=\"\"\n",
    "for line in txt_yesterday:\n",
    "    contents+=line.lower().strip()+\"\\n\" #f리스트 만들기\n",
    "\n",
    "yesterday_list=contents.split() # 공백으로 문자열을 만들어줌(단어로만 묶어주기)\n",
    "\n",
    "c=Counter(yesterday_list)\n",
    "\n",
    "for k,v in c.items():\n",
    "    print(k,\":\",v)"
   ]
  }
 ],
 "metadata": {
  "kernelspec": {
   "display_name": "Python 3",
   "language": "python",
   "name": "python3"
  },
  "language_info": {
   "codemirror_mode": {
    "name": "ipython",
    "version": 3
   },
   "file_extension": ".py",
   "mimetype": "text/x-python",
   "name": "python",
   "nbconvert_exporter": "python",
   "pygments_lexer": "ipython3",
   "version": "3.7.4"
  }
 },
 "nbformat": 4,
 "nbformat_minor": 2
}
