{
 "cells": [
  {
   "cell_type": "code",
   "execution_count": 13,
   "metadata": {},
   "outputs": [
    {
     "name": "stdout",
     "output_type": "stream",
     "text": [
      "Number of a Word 'Yesterday' 9\n"
     ]
    }
   ],
   "source": [
    "f=open(\"yesterday.txt\",'r')\n",
    "yesterday_lyric=f.readlines()\n",
    "f.close()\n",
    "\n",
    "contents=\"\"\n",
    "for line in yesterday_lyric:\n",
    "        contents=contents+line.strip()+\"\\n\"\n",
    "\n",
    "n_of_yesterday = contents.upper().count(\"YESTERDAY\")\n",
    "print(\"Number of a Word 'Yesterday'\",n_of_yesterday)"
   ]
  }
 ],
 "metadata": {
  "kernelspec": {
   "display_name": "Python 3",
   "language": "python",
   "name": "python3"
  },
  "language_info": {
   "codemirror_mode": {
    "name": "ipython",
    "version": 3
   },
   "file_extension": ".py",
   "mimetype": "text/x-python",
   "name": "python",
   "nbconvert_exporter": "python",
   "pygments_lexer": "ipython3",
   "version": "3.7.4"
  }
 },
 "nbformat": 4,
 "nbformat_minor": 2
}
